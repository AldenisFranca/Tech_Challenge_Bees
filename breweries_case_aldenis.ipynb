{
  "nbformat": 4,
  "nbformat_minor": 0,
  "metadata": {
    "colab": {
      "provenance": [],
      "authorship_tag": "ABX9TyNL9EodLY6agHmTdvVaU6F4",
      "include_colab_link": true
    },
    "kernelspec": {
      "name": "python3",
      "display_name": "Python 3"
    },
    "language_info": {
      "name": "python"
    }
  },
  "cells": [
    {
      "cell_type": "markdown",
      "metadata": {
        "id": "view-in-github",
        "colab_type": "text"
      },
      "source": [
        "<a href=\"https://colab.research.google.com/github/AldenisFranca/Tech_Challenge_Bees/blob/develop/breweries_case_aldenis.ipynb\" target=\"_parent\"><img src=\"https://colab.research.google.com/assets/colab-badge.svg\" alt=\"Open In Colab\"/></a>"
      ]
    },
    {
      "cell_type": "markdown",
      "source": [
        "#Tech Challenge - Data Engineer - AB-InBev | Bees\n",
        "#Candidato: Aldenis França"
      ],
      "metadata": {
        "id": "nMzuFNF5446H"
      }
    },
    {
      "cell_type": "markdown",
      "source": [
        "####Objective:\n",
        "The goal of this test is to assess your skills in consuming data from an API, transforming and\n",
        "persisting it into a data lake following the medallion architecture with three layers: raw data,\n",
        "curated data partitioned by location, and an analytical aggregated layer.\n"
      ],
      "metadata": {
        "id": "gdY3yqpX44zz"
      }
    },
    {
      "cell_type": "markdown",
      "source": [
        "### Instalando, importando e iniciando uma sessão no PySpark"
      ],
      "metadata": {
        "id": "x3NDDbok44tA"
      }
    },
    {
      "cell_type": "code",
      "execution_count": null,
      "metadata": {
        "colab": {
          "base_uri": "https://localhost:8080/"
        },
        "id": "UkbqOKZq4E62",
        "outputId": "963a1fdc-6278-480f-c77d-18c7e7120a3d"
      },
      "outputs": [
        {
          "output_type": "stream",
          "name": "stdout",
          "text": [
            "Requirement already satisfied: pyspark in /usr/local/lib/python3.11/dist-packages (3.5.1)\n",
            "Requirement already satisfied: py4j==0.10.9.7 in /usr/local/lib/python3.11/dist-packages (from pyspark) (0.10.9.7)\n"
          ]
        }
      ],
      "source": [
        "# Instalando o PySpark\n",
        "!pip install pyspark"
      ]
    },
    {
      "cell_type": "code",
      "source": [
        "# Importando a Biblioteca\n",
        "from pyspark.sql import SparkSession\n",
        "\n",
        "# Criando a sessão do Spark\n",
        "spark = (\n",
        "    SparkSession\n",
        "    .builder\n",
        "    .appName(\"Tech Challenge\")\n",
        "    .getOrCreate()\n",
        ")\n",
        "\n",
        "# Verificando\n",
        "spark"
      ],
      "metadata": {
        "colab": {
          "base_uri": "https://localhost:8080/",
          "height": 219
        },
        "id": "lk1d-YyV4xMC",
        "outputId": "7392b5c4-1868-420c-e60c-2e9dd60ac811"
      },
      "execution_count": null,
      "outputs": [
        {
          "output_type": "execute_result",
          "data": {
            "text/plain": [
              "<pyspark.sql.session.SparkSession at 0x7be8a4b6f4d0>"
            ],
            "text/html": [
              "\n",
              "            <div>\n",
              "                <p><b>SparkSession - in-memory</b></p>\n",
              "                \n",
              "        <div>\n",
              "            <p><b>SparkContext</b></p>\n",
              "\n",
              "            <p><a href=\"http://eb05fe0d9af0:4040\">Spark UI</a></p>\n",
              "\n",
              "            <dl>\n",
              "              <dt>Version</dt>\n",
              "                <dd><code>v3.5.1</code></dd>\n",
              "              <dt>Master</dt>\n",
              "                <dd><code>local[*]</code></dd>\n",
              "              <dt>AppName</dt>\n",
              "                <dd><code>Tech Challenge</code></dd>\n",
              "            </dl>\n",
              "        </div>\n",
              "        \n",
              "            </div>\n",
              "        "
            ]
          },
          "metadata": {},
          "execution_count": 5
        }
      ]
    },
    {
      "cell_type": "markdown",
      "source": [
        "###Importando as bibliotecas"
      ],
      "metadata": {
        "id": "UnIbWPTf7Q3j"
      }
    },
    {
      "cell_type": "code",
      "source": [
        "import requests\n",
        "from pyspark.sql.types import *\n",
        "from pyspark.sql.functions import *"
      ],
      "metadata": {
        "id": "7yS_9cZn6xnR"
      },
      "execution_count": 52,
      "outputs": []
    },
    {
      "cell_type": "markdown",
      "source": [
        "###Implementando paginação para obter os dados da API"
      ],
      "metadata": {
        "id": "Rclr2oeD7X_4"
      }
    },
    {
      "cell_type": "code",
      "source": [
        "# Criação da função para realizar as requisições na API\n",
        "def get_all_data_from_api(base_url: str, page_param: str, per_page_param: str, page_start: int = 1, items_per_page: int = 50):\n",
        "\n",
        "    \"\"\"\n",
        "    Função que faz requisições paginadas para uma API e retorna uma lista com\n",
        "    todos os dados das páginas.\n",
        "\n",
        "    Args:\n",
        "        base_url: URL base da API.\n",
        "        page_param: Nome do parâmetro de página na URL.\n",
        "        per_page_param: Nome do parâmetro para itens por página.\n",
        "        page_start: Número da primeira página (padrão: 1).\n",
        "        items_per_page: Número de itens por página (padrão: 50).\n",
        "    \"\"\"\n",
        "\n",
        "    all_data = []\n",
        "    page = page_start\n",
        "\n",
        "    while True:\n",
        "        url = f'{base_url}?{page_param}={page}&{per_page_param}={items_per_page}'\n",
        "        response = requests.get(url)\n",
        "\n",
        "        if response.status_code == 200:\n",
        "            data = response.json()\n",
        "            if not data:\n",
        "                break  # sai do loop se não houver mais dados\n",
        "\n",
        "            all_data.extend(data)\n",
        "            page += 1\n",
        "        elif response.status_code == 429:\n",
        "            all_data = []\n",
        "            page = page_start\n",
        "        else:\n",
        "            print(f'Erro na requisição (página {page}): {response.status_code}')\n",
        "            break  # sai do loop em caso de erro\n",
        "\n",
        "    return all_data"
      ],
      "metadata": {
        "id": "4AuUkR8y7XGR"
      },
      "execution_count": 44,
      "outputs": []
    },
    {
      "cell_type": "code",
      "source": [
        "# Informando a URL da API\n",
        "base_url = 'https://api.openbrewerydb.org/v1/breweries'\n",
        "\n",
        "# Chamada da função\n",
        "complet_data = get_all_data_from_api(base_url, page_param = 'page', per_page_param = 'per_page')\n",
        "\n",
        "# Quantidade de linhas da base completa\n",
        "print(f'Quantidade de linhas da base completa: {len(complet_data)}')"
      ],
      "metadata": {
        "id": "Eg_yKwWa9L_n",
        "colab": {
          "base_uri": "https://localhost:8080/"
        },
        "outputId": "eb0fac5d-9171-4973-e21c-621d9644e1db"
      },
      "execution_count": 49,
      "outputs": [
        {
          "output_type": "stream",
          "name": "stdout",
          "text": [
            "Quantidade de linhas da base completa: 8408\n"
          ]
        }
      ]
    },
    {
      "cell_type": "markdown",
      "source": [
        "##Implementando a Arquitetura do Data Lake"
      ],
      "metadata": {
        "id": "bQC7DL6rNDve"
      }
    },
    {
      "cell_type": "markdown",
      "source": [
        "###Bronze Layer\n",
        "\n",
        "Persist the raw data from the API in its native format or\n",
        "any format you find suitable."
      ],
      "metadata": {
        "id": "6h0yVyIbNPrz"
      }
    },
    {
      "cell_type": "code",
      "source": [
        "# Criando um DataFrame com schema específico\n",
        "schema = StructType([\n",
        "    StructField(\"id\", StringType(), True),\n",
        "    StructField(\"name\", StringType(), True),\n",
        "    StructField(\"brewery_type\", StringType(), True),\n",
        "    StructField(\"address_1\", StringType(), True),\n",
        "    StructField(\"address_2\", StringType(), True),\n",
        "    StructField(\"address_3\", StringType(), True),\n",
        "    StructField(\"city\", StringType(), True),\n",
        "    StructField(\"state_province\", StringType(), True),\n",
        "    StructField(\"postal_code\", StringType(), True),\n",
        "    StructField(\"country\", StringType(), True),\n",
        "    StructField(\"longitude\", StringType(), True),\n",
        "    StructField(\"latitude\", StringType(), True),\n",
        "    StructField(\"phone\", StringType(), True),\n",
        "    StructField(\"website_url\", StringType(), True),\n",
        "    StructField(\"state\", StringType(), True),\n",
        "    StructField(\"street\", StringType(), True)\n",
        "])\n",
        "\n",
        "df_raw = spark.createDataFrame(complet_data, schema)\n",
        "df_raw.show(truncate=False)"
      ],
      "metadata": {
        "colab": {
          "base_uri": "https://localhost:8080/"
        },
        "id": "l6SUNMgQNC9c",
        "outputId": "9310a496-3cd6-4dfd-f8ab-957ac6725b96"
      },
      "execution_count": 61,
      "outputs": [
        {
          "output_type": "stream",
          "name": "stdout",
          "text": [
            "+------------------------------------+-------------------------------+------------+---------------------------+---------+---------+--------------+--------------+-----------+-------------+----------------+---------------+------------+----------------------------------+-------------+---------------------------+\n",
            "|id                                  |name                           |brewery_type|address_1                  |address_2|address_3|city          |state_province|postal_code|country      |longitude       |latitude       |phone       |website_url                       |state        |street                     |\n",
            "+------------------------------------+-------------------------------+------------+---------------------------+---------+---------+--------------+--------------+-----------+-------------+----------------+---------------+------------+----------------------------------+-------------+---------------------------+\n",
            "|5128df48-79fc-4f0f-8b52-d06be54d0cec|(405) Brewing Co               |micro       |1716 Topeka St             |NULL     |NULL     |Norman        |Oklahoma      |73069-8224 |United States|-97.46818222    |35.25738891    |4058160490  |http://www.405brewing.com         |Oklahoma     |1716 Topeka St             |\n",
            "|9c5a66c8-cc13-416f-a5d9-0a769c87d318|(512) Brewing Co               |micro       |407 Radam Ln Ste F200      |NULL     |NULL     |Austin        |Texas         |78745-1197 |United States|NULL            |NULL           |5129211545  |http://www.512brewing.com         |Texas        |407 Radam Ln Ste F200      |\n",
            "|34e8c68b-6146-453f-a4b9-1f6cd99a5ada|1 of Us Brewing Company        |micro       |8100 Washington Ave        |NULL     |NULL     |Mount Pleasant|Wisconsin     |53406-3920 |United States|-87.883363502094|42.720108268996|2624847553  |https://www.1ofusbrewing.com      |Wisconsin    |8100 Washington Ave        |\n",
            "|6d14b220-8926-4521-8d19-b98a2d6ec3db|10 Barrel Brewing Co           |large       |62970 18th St              |NULL     |NULL     |Bend          |Oregon        |97701-9847 |United States|-121.281706     |44.08683531    |5415851007  |http://www.10barrel.com           |Oregon       |62970 18th St              |\n",
            "|e2e78bd8-80ff-4a61-a65c-3bfbd9d76ce2|10 Barrel Brewing Co           |large       |1135 NW Galveston Ave Ste B|NULL     |NULL     |Bend          |Oregon        |97703-2465 |United States|-121.3288021    |44.0575649     |5415851007  |NULL                              |Oregon       |1135 NW Galveston Ave Ste B|\n",
            "|e432899b-7f58-455f-9c7b-9a6e2130a1e0|10 Barrel Brewing Co           |large       |1411 NW Flanders St        |NULL     |NULL     |Portland      |Oregon        |97209-2620 |United States|-122.6855056    |45.5259786     |5032241700  |http://www.10barrel.com           |Oregon       |1411 NW Flanders St        |\n",
            "|ef970757-fe42-416f-931d-722451f1f59c|10 Barrel Brewing Co           |large       |1501 E St                  |NULL     |NULL     |San Diego     |California    |92101-6618 |United States|-117.129593     |32.714813      |6195782311  |http://10barrel.com               |California   |1501 E St                  |\n",
            "|9f1852da-c312-42da-9a31-097bac81c4c0|10 Barrel Brewing Co - Bend Pub|large       |62950 NE 18th St           |NULL     |NULL     |Bend          |Oregon        |97701      |United States|-121.2809536    |44.0912109     |5415851007  |NULL                              |Oregon       |62950 NE 18th St           |\n",
            "|ea4f30c0-bce6-416b-8904-fab4055a7362|10 Barrel Brewing Co - Boise   |large       |826 W Bannock St           |NULL     |NULL     |Boise         |Idaho         |83702-5857 |United States|-116.202929     |43.618516      |2083445870  |http://www.10barrel.com           |Idaho        |826 W Bannock St           |\n",
            "|1988eb86-f0a2-4674-ba04-02454efa0d31|10 Barrel Brewing Co - Denver  |large       |2620 Walnut St             |NULL     |NULL     |Denver        |Colorado      |80205-2231 |United States|-104.9853655    |39.7592508     |7205738992  |NULL                              |Colorado     |2620 Walnut St             |\n",
            "|1ecc330f-6275-42a5-b14e-00adbed62752|10 Torr Distilling and Brewing |micro       |490 Mill St                |NULL     |NULL     |Reno          |Nevada        |89502      |United States|-119.7732015    |39.5171702     |7755307014  |http://www.10torr.com             |Nevada       |490 Mill St                |\n",
            "|7531dbd8-afc9-4b5b-95bc-7ece7f2c0bf3|10-56 Brewing Company          |micro       |400 Brown Cir              |NULL     |NULL     |Knox          |Indiana       |46534      |United States|-86.627954      |41.289715      |6308165790  |NULL                              |Indiana      |400 Brown Cir              |\n",
            "|5ae467af-66dc-4d7f-8839-44228f89b596|101 North Brewing Company      |closed      |1304 Scott St Ste D        |NULL     |NULL     |Petaluma      |California    |94954-7100 |United States|-122.665055     |38.27029381    |7077534934  |http://www.101northbeer.com       |California   |1304 Scott St Ste D        |\n",
            "|4ffda196-dd59-44a5-9eeb-5f7fd4b58f5a|105 West Brewing Co            |micro       |1043 Park St               |NULL     |NULL     |Castle Rock   |Colorado      |80109-1585 |United States|-104.8667206    |39.38269495    |3033257321  |http://www.105westbrewing.com     |Colorado     |1043 Park St               |\n",
            "|42aa37d5-8384-4ffe-8c81-7c982eff0384|10K Brewing                    |micro       |2005 2nd Ave               |NULL     |NULL     |Anoka         |Minnesota     |55303-2243 |United States|-93.38952559    |45.19812039    |7633924753  |http://10KBrew.com                |Minnesota    |2005 2nd Ave               |\n",
            "|232e8f62-9afc-45f5-b4bc-582c26b5c43b|10th District Brewing Company  |micro       |491 Washington St          |NULL     |NULL     |Abington      |Massachusetts |02351-2419 |United States|-70.94594149    |42.10591754    |7813071554  |http://www.10thdistrictbrewing.com|Massachusetts|491 Washington St          |\n",
            "|08f78223-24f8-4b71-b381-ea19a5bd82df|11 Below Brewing Company       |micro       |6820 Bourgeois Rd          |NULL     |NULL     |Houston       |Texas         |77066-3107 |United States|-95.5186591     |29.9515464     |2814442337  |http://www.11belowbrewing.com     |Texas        |6820 Bourgeois Rd          |\n",
            "|58293321-14ae-49d7-9a7b-08436c9e63a6|1188 Brewing Co                |brewpub     |141 E Main St              |NULL     |NULL     |John Day      |Oregon        |97845-1210 |United States|-118.9218754    |44.4146563     |5415751188  |http://www.1188brewing.com        |Oregon       |141 E Main St              |\n",
            "|e5f3e72a-fee2-4813-82cf-f2e53b439ae6|12 Acres Brewing Company       |micro       |Unnamed Street             |Clonmore |NULL     |Killeshin     |Laois         |R93 X3X8   |Ireland      |-6.979343891    |52.84930763    |353599107299|https://12acresbrewing.ie/        |Laois        |Unnamed Street             |\n",
            "|d81ff708-b5d2-478f-af6a-6d40f5beb9ac|12 Gates Brewing Company       |brewpub     |80 Earhart Dr Ste 20       |NULL     |NULL     |Williamsville |New York      |14221-7804 |United States|NULL            |NULL           |7169066600  |http://www.12gatesbrewing.com     |New York     |80 Earhart Dr Ste 20       |\n",
            "+------------------------------------+-------------------------------+------------+---------------------------+---------+---------+--------------+--------------+-----------+-------------+----------------+---------------+------------+----------------------------------+-------------+---------------------------+\n",
            "only showing top 20 rows\n",
            "\n"
          ]
        }
      ]
    },
    {
      "cell_type": "code",
      "source": [
        "# Criando a pasta da camada raw\n",
        "!mkdir raw\n",
        "\n",
        "# Salvando a base de dados em formato CSV na camada raw\n",
        "df_raw.write.format('csv') \\\n",
        "      .mode('overwrite') \\\n",
        "      .option('header', 'true') \\\n",
        "      .option('sep', '\\t') \\\n",
        "      .save('raw/breweries_data')"
      ],
      "metadata": {
        "id": "hiZWiCsZR0lo"
      },
      "execution_count": 79,
      "outputs": []
    },
    {
      "cell_type": "code",
      "source": [],
      "metadata": {
        "id": "IajIhTcTWqsZ"
      },
      "execution_count": null,
      "outputs": []
    },
    {
      "cell_type": "markdown",
      "source": [
        "### Silver Layer"
      ],
      "metadata": {
        "id": "1ThckOo6NVZy"
      }
    },
    {
      "cell_type": "code",
      "source": [
        "# Criando a pasta da camada curated\n",
        "!mkdir curated"
      ],
      "metadata": {
        "colab": {
          "base_uri": "https://localhost:8080/"
        },
        "id": "gmq1WaezNX3B",
        "outputId": "3f8c4372-d2d1-43bf-8273-a01fae0125ec"
      },
      "execution_count": 66,
      "outputs": [
        {
          "output_type": "execute_result",
          "data": {
            "text/plain": [
              "1"
            ]
          },
          "metadata": {},
          "execution_count": 66
        }
      ]
    },
    {
      "cell_type": "code",
      "source": [],
      "metadata": {
        "id": "P-cCsPNENYnU"
      },
      "execution_count": null,
      "outputs": []
    },
    {
      "cell_type": "markdown",
      "source": [
        "###Gold Layer"
      ],
      "metadata": {
        "id": "4MOYwsbdNZAh"
      }
    },
    {
      "cell_type": "code",
      "source": [],
      "metadata": {
        "id": "PLL85KONNbI_"
      },
      "execution_count": null,
      "outputs": []
    },
    {
      "cell_type": "code",
      "source": [],
      "metadata": {
        "id": "3rIk8H3NNbze"
      },
      "execution_count": null,
      "outputs": []
    }
  ]
}